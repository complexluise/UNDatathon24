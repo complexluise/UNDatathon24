{
 "cells": [
  {
   "cell_type": "markdown",
   "source": [
    "## Establishments proportion by comuna"
   ],
   "metadata": {
    "collapsed": false
   },
   "id": "819129e8b3730b70"
  },
  {
   "cell_type": "markdown",
   "source": [
    "### Open data"
   ],
   "metadata": {
    "collapsed": false
   },
   "id": "e21228d5ff194706"
  },
  {
   "cell_type": "code",
   "execution_count": 1,
   "outputs": [
    {
     "data": {
      "text/plain": "{'14': 'EL POBLADO',\n '16': 'BelÃ©n',\n '10': 'La Candelaria',\n '08': 'Villa Hermosa',\n '12': 'La AmÃ©rica',\n '03': 'Manrique',\n '09': 'Buenos Aires',\n '07': 'Robledo',\n '70': 'Corregimiento de Altavista',\n '11': 'Laureles Estadio',\n '06': 'Doce de Octubre',\n '15': 'Guayabal',\n '60': 'Corregimiento de San CristÃ³bal',\n '01': 'Popular',\n '02': 'Santa Cruz',\n '05': 'Castilla',\n '13': 'San Javier',\n '80': 'Corregimiento de San Antonio de Prado',\n '04': 'Aranjuez',\n '90': 'Corregimiento de Santa Elena',\n 'AU': 'AU',\n 'AE': 'AE',\n 'In': 'In',\n None: None,\n 'SN': 'SN',\n '50': 'Corregimiento de San SebastiÃ¡n de Palmitas',\n '00': '00'}"
     },
     "execution_count": 1,
     "metadata": {},
     "output_type": "execute_result"
    }
   ],
   "source": [
    "import geopandas as gpd\n",
    "import pandas as pd\n",
    "from src.geo_data_handler import GeoDataHandler\n",
    "from src.constants import ciiu_interes, ciiu_interested_for_tourism\n",
    "\n",
    "\n",
    "establecimientos_comercio = GeoDataHandler(\n",
    "    gpd.read_file(\n",
    "        \"../datasets/GeoMedellin Seleccionado/establecimientos_de_indus.geojson\"\n",
    "    )\n",
    ")\n",
    "\n",
    "comuna_mapping = establecimientos_comercio.geodata[['comuna', 'nombre_comuna']].drop_duplicates().set_index('comuna')['nombre_comuna'].to_dict()\n",
    "comuna_mapping"
   ],
   "metadata": {
    "collapsed": false,
    "ExecuteTime": {
     "end_time": "2024-11-11T17:19:36.280722100Z",
     "start_time": "2024-11-11T17:19:22.238065200Z"
    }
   },
   "id": "c91c0f9f44c1e141"
  },
  {
   "cell_type": "code",
   "execution_count": 2,
   "outputs": [],
   "source": [
    "geodata_dict = {}\n",
    "\n",
    "for key in ciiu_interes.keys():\n",
    "    geodata_dict[key] = GeoDataHandler(\n",
    "        gpd.read_file(\n",
    "            f\"../datasets/GeoMedellin Procesado/processed_establishments_{key}.geojson\"\n",
    "        )\n",
    "    )\n"
   ],
   "metadata": {
    "collapsed": false,
    "ExecuteTime": {
     "end_time": "2024-11-11T17:19:37.955932100Z",
     "start_time": "2024-11-11T17:19:36.280722100Z"
    }
   },
   "id": "3524d72549caa657"
  },
  {
   "cell_type": "markdown",
   "source": [
    "## Sum of establishments of interest by comuna"
   ],
   "metadata": {
    "collapsed": false
   },
   "id": "a1b79f13f3516a5b"
  },
  {
   "cell_type": "code",
   "execution_count": 3,
   "outputs": [],
   "source": [
    "# Total of establishments by comuna\n",
    "total_by_comuna = establecimientos_comercio.geodata.groupby(\"comuna\").size()"
   ],
   "metadata": {
    "collapsed": false,
    "ExecuteTime": {
     "end_time": "2024-11-11T17:19:37.984105800Z",
     "start_time": "2024-11-11T17:19:37.955932100Z"
    }
   },
   "id": "977e4bdeeae9cf1d"
  },
  {
   "cell_type": "code",
   "execution_count": 4,
   "outputs": [
    {
     "data": {
      "text/plain": "{'alojamientos': ['5511',\n  '5512',\n  '5513',\n  '5514',\n  '5519',\n  '5520',\n  '5530',\n  '5590'],\n 'servicios_turisticos': ['7911', '7912', '7990'],\n 'entretenimiento': ['8230', '9103', '9200', '9321', '9329'],\n 'transporte': ['4911', '4921', '5011', '5021', '5111', '5112'],\n 'alimentacion': ['5611', '5612', '5613', '5619'],\n 'bares': ['5630']}"
     },
     "execution_count": 4,
     "metadata": {},
     "output_type": "execute_result"
    }
   ],
   "source": [
    "ciiu_interes"
   ],
   "metadata": {
    "collapsed": false,
    "ExecuteTime": {
     "end_time": "2024-11-11T17:19:38.003682800Z",
     "start_time": "2024-11-11T17:19:37.984105800Z"
    }
   },
   "id": "e4a87af3b1b6d991"
  },
  {
   "cell_type": "code",
   "execution_count": 5,
   "outputs": [
    {
     "data": {
      "text/plain": "comuna\n01      96.0\n02      67.0\n03     115.0\n04     224.0\n05     177.0\n06     120.0\n07     143.0\n08     117.0\n09     212.0\n10    1286.0\n11     867.0\n12     216.0\n13      95.0\n14    1359.0\n15     185.0\n16     446.0\n60      50.0\n70      22.0\n80      33.0\n90      14.0\nAE       NaN\nAU       NaN\nIn       NaN\ndtype: float64"
     },
     "execution_count": 5,
     "metadata": {},
     "output_type": "execute_result"
    }
   ],
   "source": [
    "counts_by_comuna = {}\n",
    "for key in ciiu_interes.keys():\n",
    "    counts_by_comuna[key] = geodata_dict[key].geodata.groupby(\"comuna\").size()\n",
    "\n",
    "# Sum all counts by comuna across only alojamientos, \n",
    "total_tourism_establishments_by_comuna = pd.Series(0, index=counts_by_comuna[list(counts_by_comuna.keys())[0]].index)\n",
    "for key in counts_by_comuna:\n",
    "    if key in ciiu_interested_for_tourism:\n",
    "        total_tourism_establishments_by_comuna += counts_by_comuna[key]\n",
    "\n",
    "total_tourism_establishments_by_comuna"
   ],
   "metadata": {
    "collapsed": false,
    "ExecuteTime": {
     "end_time": "2024-11-11T17:19:38.015947400Z",
     "start_time": "2024-11-11T17:19:37.991176100Z"
    }
   },
   "id": "8d7618be871acc61"
  },
  {
   "cell_type": "markdown",
   "source": [
    "# Establishment proporcion by comuna"
   ],
   "metadata": {
    "collapsed": false
   },
   "id": "1267a06d9cf9110e"
  },
  {
   "cell_type": "code",
   "execution_count": 6,
   "outputs": [
    {
     "data": {
      "text/plain": "dict_keys(['alojamientos', 'servicios_turisticos', 'entretenimiento', 'transporte', 'alimentacion', 'bares'])"
     },
     "execution_count": 6,
     "metadata": {},
     "output_type": "execute_result"
    }
   ],
   "source": [
    "counts_by_comuna.keys()"
   ],
   "metadata": {
    "collapsed": false,
    "ExecuteTime": {
     "end_time": "2024-11-11T17:19:38.015947400Z",
     "start_time": "2024-11-11T17:19:38.009580300Z"
    }
   },
   "id": "48878c4ee9ed7693"
  },
  {
   "cell_type": "code",
   "execution_count": 9,
   "outputs": [
    {
     "data": {
      "text/plain": "       comuna                                nombre_comuna  \\\ncomuna                                                       \n00         00                                           00   \n01         01                                      Popular   \n02         02                                   Santa Cruz   \n03         03                                     Manrique   \n04         04                                     Aranjuez   \n05         05                                     Castilla   \n06         06                              Doce de Octubre   \n07         07                                      Robledo   \n08         08                                Villa Hermosa   \n09         09                                 Buenos Aires   \n10         10                                La Candelaria   \n11         11                             Laureles Estadio   \n12         12                                  La AmÃ©rica   \n13         13                                   San Javier   \n14         14                                   EL POBLADO   \n15         15                                     Guayabal   \n16         16                                       BelÃ©n   \n50         50  Corregimiento de San SebastiÃ¡n de Palmitas   \n60         60              Corregimiento de San CristÃ³bal   \n70         70                   Corregimiento de Altavista   \n80         80        Corregimiento de San Antonio de Prado   \n90         90                 Corregimiento de Santa Elena   \nAE         AE                                           AE   \nAU         AU                                           AU   \nIn         In                                           In   \nSN         SN                                           SN   \n\n        total_establecimientos  total_establecimientos_turismo  \\\ncomuna                                                           \n00                           4                             NaN   \n01                        2811                            96.0   \n02                        3090                            67.0   \n03                        4911                           115.0   \n04                        8759                           224.0   \n05                        7074                           177.0   \n06                        5326                           120.0   \n07                        6718                           143.0   \n08                        4687                           117.0   \n09                        7843                           212.0   \n10                       50492                          1286.0   \n11                       23126                           867.0   \n12                        9822                           216.0   \n13                        4849                            95.0   \n14                       34053                          1359.0   \n15                       10883                           185.0   \n16                       18860                           446.0   \n50                          12                             NaN   \n60                        1918                            50.0   \n70                         920                            22.0   \n80                        2237                            33.0   \n90                         479                            14.0   \nAE                          91                             NaN   \nAU                         251                             NaN   \nIn                         269                             NaN   \nSN                          53                             NaN   \n\n        prop_rel_establecimientos_turismo  proporcion_relativa_alojamientos  \\\ncomuna                                                                        \n00                                    NaN                               NaN   \n01                               0.034152                          0.604167   \n02                               0.021683                          0.507463   \n03                               0.023417                          0.434783   \n04                               0.025574                          0.602679   \n05                               0.025021                          0.542373   \n06                               0.022531                          0.391667   \n07                               0.021286                          0.307692   \n08                               0.024963                          0.307692   \n09                               0.027030                          0.377358   \n10                               0.025469                          0.658631   \n11                               0.037490                          0.592849   \n12                               0.021991                          0.319444   \n13                               0.019592                          0.231579   \n14                               0.039908                          0.565121   \n15                               0.016999                          0.329730   \n16                               0.023648                          0.338565   \n50                                    NaN                               NaN   \n60                               0.026069                          0.240000   \n70                               0.023913                          0.272727   \n80                               0.014752                          0.484848   \n90                               0.029228                          0.857143   \nAE                                    NaN                               NaN   \nAU                                    NaN                               NaN   \nIn                                    NaN                               NaN   \nSN                                    NaN                               NaN   \n\n        proporcion_relativa_servicios_turisticos  \\\ncomuna                                             \n00                                           NaN   \n01                                      0.135417   \n02                                      0.149254   \n03                                      0.286957   \n04                                      0.200893   \n05                                      0.248588   \n06                                      0.333333   \n07                                      0.482517   \n08                                      0.435897   \n09                                      0.367925   \n10                                      0.244168   \n11                                      0.287197   \n12                                      0.435185   \n13                                      0.536842   \n14                                      0.284032   \n15                                      0.410811   \n16                                      0.385650   \n50                                           NaN   \n60                                      0.460000   \n70                                      0.454545   \n80                                      0.242424   \n90                                      0.071429   \nAE                                           NaN   \nAU                                           NaN   \nIn                                           NaN   \nSN                                           NaN   \n\n        proporcion_relativa_entretenimiento  proporcion_transporte  \\\ncomuna                                                               \n00                                      NaN                    NaN   \n01                                 0.260417               0.002490   \n02                                 0.343284               0.002589   \n03                                 0.278261               0.002240   \n04                                 0.196429               0.005480   \n05                                 0.209040               0.010744   \n06                                 0.275000               0.003380   \n07                                 0.209790               0.008038   \n08                                 0.256410               0.005761   \n09                                 0.254717               0.005993   \n10                                 0.097201               0.003644   \n11                                 0.119954               0.007697   \n12                                 0.245370               0.008043   \n13                                 0.231579               0.005362   \n14                                 0.150846               0.004464   \n15                                 0.259459               0.013691   \n16                                 0.275785               0.006787   \n50                                      NaN                    NaN   \n60                                 0.300000               0.003650   \n70                                 0.272727               0.005435   \n80                                 0.272727               0.009388   \n90                                 0.071429               0.004175   \nAE                                      NaN                    NaN   \nAU                                      NaN                    NaN   \nIn                                      NaN               0.063197   \nSN                                      NaN               0.018868   \n\n        proporcion_alimentacion  proporcion_bares  \ncomuna                                             \n00                          NaN               NaN  \n01                     0.060121          0.070793  \n02                     0.067961          0.052751  \n03                     0.067196          0.041336  \n04                     0.095331          0.037561  \n05                     0.080153          0.024314  \n06                     0.063838          0.034923  \n07                     0.063709          0.018904  \n08                     0.056326          0.036271  \n09                     0.072676          0.027923  \n10                     0.066783          0.014141  \n11                     0.079824          0.013794  \n12                     0.066280          0.011098  \n13                     0.054857          0.031759  \n14                     0.059466          0.009456  \n15                     0.063677          0.009740  \n16                     0.068664          0.014740  \n50                     0.250000          0.083333  \n60                     0.071950          0.043796  \n70                     0.036957          0.036957  \n80                     0.092088          0.038444  \n90                     0.045929          0.029228  \nAE                     0.054945          0.043956  \nAU                     0.075697          0.023904  \nIn                     0.211896          0.003717  \nSN                     0.056604               NaN  ",
      "text/html": "<div>\n<style scoped>\n    .dataframe tbody tr th:only-of-type {\n        vertical-align: middle;\n    }\n\n    .dataframe tbody tr th {\n        vertical-align: top;\n    }\n\n    .dataframe thead th {\n        text-align: right;\n    }\n</style>\n<table border=\"1\" class=\"dataframe\">\n  <thead>\n    <tr style=\"text-align: right;\">\n      <th></th>\n      <th>comuna</th>\n      <th>nombre_comuna</th>\n      <th>total_establecimientos</th>\n      <th>total_establecimientos_turismo</th>\n      <th>prop_rel_establecimientos_turismo</th>\n      <th>proporcion_relativa_alojamientos</th>\n      <th>proporcion_relativa_servicios_turisticos</th>\n      <th>proporcion_relativa_entretenimiento</th>\n      <th>proporcion_transporte</th>\n      <th>proporcion_alimentacion</th>\n      <th>proporcion_bares</th>\n    </tr>\n    <tr>\n      <th>comuna</th>\n      <th></th>\n      <th></th>\n      <th></th>\n      <th></th>\n      <th></th>\n      <th></th>\n      <th></th>\n      <th></th>\n      <th></th>\n      <th></th>\n      <th></th>\n    </tr>\n  </thead>\n  <tbody>\n    <tr>\n      <th>00</th>\n      <td>00</td>\n      <td>00</td>\n      <td>4</td>\n      <td>NaN</td>\n      <td>NaN</td>\n      <td>NaN</td>\n      <td>NaN</td>\n      <td>NaN</td>\n      <td>NaN</td>\n      <td>NaN</td>\n      <td>NaN</td>\n    </tr>\n    <tr>\n      <th>01</th>\n      <td>01</td>\n      <td>Popular</td>\n      <td>2811</td>\n      <td>96.0</td>\n      <td>0.034152</td>\n      <td>0.604167</td>\n      <td>0.135417</td>\n      <td>0.260417</td>\n      <td>0.002490</td>\n      <td>0.060121</td>\n      <td>0.070793</td>\n    </tr>\n    <tr>\n      <th>02</th>\n      <td>02</td>\n      <td>Santa Cruz</td>\n      <td>3090</td>\n      <td>67.0</td>\n      <td>0.021683</td>\n      <td>0.507463</td>\n      <td>0.149254</td>\n      <td>0.343284</td>\n      <td>0.002589</td>\n      <td>0.067961</td>\n      <td>0.052751</td>\n    </tr>\n    <tr>\n      <th>03</th>\n      <td>03</td>\n      <td>Manrique</td>\n      <td>4911</td>\n      <td>115.0</td>\n      <td>0.023417</td>\n      <td>0.434783</td>\n      <td>0.286957</td>\n      <td>0.278261</td>\n      <td>0.002240</td>\n      <td>0.067196</td>\n      <td>0.041336</td>\n    </tr>\n    <tr>\n      <th>04</th>\n      <td>04</td>\n      <td>Aranjuez</td>\n      <td>8759</td>\n      <td>224.0</td>\n      <td>0.025574</td>\n      <td>0.602679</td>\n      <td>0.200893</td>\n      <td>0.196429</td>\n      <td>0.005480</td>\n      <td>0.095331</td>\n      <td>0.037561</td>\n    </tr>\n    <tr>\n      <th>05</th>\n      <td>05</td>\n      <td>Castilla</td>\n      <td>7074</td>\n      <td>177.0</td>\n      <td>0.025021</td>\n      <td>0.542373</td>\n      <td>0.248588</td>\n      <td>0.209040</td>\n      <td>0.010744</td>\n      <td>0.080153</td>\n      <td>0.024314</td>\n    </tr>\n    <tr>\n      <th>06</th>\n      <td>06</td>\n      <td>Doce de Octubre</td>\n      <td>5326</td>\n      <td>120.0</td>\n      <td>0.022531</td>\n      <td>0.391667</td>\n      <td>0.333333</td>\n      <td>0.275000</td>\n      <td>0.003380</td>\n      <td>0.063838</td>\n      <td>0.034923</td>\n    </tr>\n    <tr>\n      <th>07</th>\n      <td>07</td>\n      <td>Robledo</td>\n      <td>6718</td>\n      <td>143.0</td>\n      <td>0.021286</td>\n      <td>0.307692</td>\n      <td>0.482517</td>\n      <td>0.209790</td>\n      <td>0.008038</td>\n      <td>0.063709</td>\n      <td>0.018904</td>\n    </tr>\n    <tr>\n      <th>08</th>\n      <td>08</td>\n      <td>Villa Hermosa</td>\n      <td>4687</td>\n      <td>117.0</td>\n      <td>0.024963</td>\n      <td>0.307692</td>\n      <td>0.435897</td>\n      <td>0.256410</td>\n      <td>0.005761</td>\n      <td>0.056326</td>\n      <td>0.036271</td>\n    </tr>\n    <tr>\n      <th>09</th>\n      <td>09</td>\n      <td>Buenos Aires</td>\n      <td>7843</td>\n      <td>212.0</td>\n      <td>0.027030</td>\n      <td>0.377358</td>\n      <td>0.367925</td>\n      <td>0.254717</td>\n      <td>0.005993</td>\n      <td>0.072676</td>\n      <td>0.027923</td>\n    </tr>\n    <tr>\n      <th>10</th>\n      <td>10</td>\n      <td>La Candelaria</td>\n      <td>50492</td>\n      <td>1286.0</td>\n      <td>0.025469</td>\n      <td>0.658631</td>\n      <td>0.244168</td>\n      <td>0.097201</td>\n      <td>0.003644</td>\n      <td>0.066783</td>\n      <td>0.014141</td>\n    </tr>\n    <tr>\n      <th>11</th>\n      <td>11</td>\n      <td>Laureles Estadio</td>\n      <td>23126</td>\n      <td>867.0</td>\n      <td>0.037490</td>\n      <td>0.592849</td>\n      <td>0.287197</td>\n      <td>0.119954</td>\n      <td>0.007697</td>\n      <td>0.079824</td>\n      <td>0.013794</td>\n    </tr>\n    <tr>\n      <th>12</th>\n      <td>12</td>\n      <td>La AmÃ©rica</td>\n      <td>9822</td>\n      <td>216.0</td>\n      <td>0.021991</td>\n      <td>0.319444</td>\n      <td>0.435185</td>\n      <td>0.245370</td>\n      <td>0.008043</td>\n      <td>0.066280</td>\n      <td>0.011098</td>\n    </tr>\n    <tr>\n      <th>13</th>\n      <td>13</td>\n      <td>San Javier</td>\n      <td>4849</td>\n      <td>95.0</td>\n      <td>0.019592</td>\n      <td>0.231579</td>\n      <td>0.536842</td>\n      <td>0.231579</td>\n      <td>0.005362</td>\n      <td>0.054857</td>\n      <td>0.031759</td>\n    </tr>\n    <tr>\n      <th>14</th>\n      <td>14</td>\n      <td>EL POBLADO</td>\n      <td>34053</td>\n      <td>1359.0</td>\n      <td>0.039908</td>\n      <td>0.565121</td>\n      <td>0.284032</td>\n      <td>0.150846</td>\n      <td>0.004464</td>\n      <td>0.059466</td>\n      <td>0.009456</td>\n    </tr>\n    <tr>\n      <th>15</th>\n      <td>15</td>\n      <td>Guayabal</td>\n      <td>10883</td>\n      <td>185.0</td>\n      <td>0.016999</td>\n      <td>0.329730</td>\n      <td>0.410811</td>\n      <td>0.259459</td>\n      <td>0.013691</td>\n      <td>0.063677</td>\n      <td>0.009740</td>\n    </tr>\n    <tr>\n      <th>16</th>\n      <td>16</td>\n      <td>BelÃ©n</td>\n      <td>18860</td>\n      <td>446.0</td>\n      <td>0.023648</td>\n      <td>0.338565</td>\n      <td>0.385650</td>\n      <td>0.275785</td>\n      <td>0.006787</td>\n      <td>0.068664</td>\n      <td>0.014740</td>\n    </tr>\n    <tr>\n      <th>50</th>\n      <td>50</td>\n      <td>Corregimiento de San SebastiÃ¡n de Palmitas</td>\n      <td>12</td>\n      <td>NaN</td>\n      <td>NaN</td>\n      <td>NaN</td>\n      <td>NaN</td>\n      <td>NaN</td>\n      <td>NaN</td>\n      <td>0.250000</td>\n      <td>0.083333</td>\n    </tr>\n    <tr>\n      <th>60</th>\n      <td>60</td>\n      <td>Corregimiento de San CristÃ³bal</td>\n      <td>1918</td>\n      <td>50.0</td>\n      <td>0.026069</td>\n      <td>0.240000</td>\n      <td>0.460000</td>\n      <td>0.300000</td>\n      <td>0.003650</td>\n      <td>0.071950</td>\n      <td>0.043796</td>\n    </tr>\n    <tr>\n      <th>70</th>\n      <td>70</td>\n      <td>Corregimiento de Altavista</td>\n      <td>920</td>\n      <td>22.0</td>\n      <td>0.023913</td>\n      <td>0.272727</td>\n      <td>0.454545</td>\n      <td>0.272727</td>\n      <td>0.005435</td>\n      <td>0.036957</td>\n      <td>0.036957</td>\n    </tr>\n    <tr>\n      <th>80</th>\n      <td>80</td>\n      <td>Corregimiento de San Antonio de Prado</td>\n      <td>2237</td>\n      <td>33.0</td>\n      <td>0.014752</td>\n      <td>0.484848</td>\n      <td>0.242424</td>\n      <td>0.272727</td>\n      <td>0.009388</td>\n      <td>0.092088</td>\n      <td>0.038444</td>\n    </tr>\n    <tr>\n      <th>90</th>\n      <td>90</td>\n      <td>Corregimiento de Santa Elena</td>\n      <td>479</td>\n      <td>14.0</td>\n      <td>0.029228</td>\n      <td>0.857143</td>\n      <td>0.071429</td>\n      <td>0.071429</td>\n      <td>0.004175</td>\n      <td>0.045929</td>\n      <td>0.029228</td>\n    </tr>\n    <tr>\n      <th>AE</th>\n      <td>AE</td>\n      <td>AE</td>\n      <td>91</td>\n      <td>NaN</td>\n      <td>NaN</td>\n      <td>NaN</td>\n      <td>NaN</td>\n      <td>NaN</td>\n      <td>NaN</td>\n      <td>0.054945</td>\n      <td>0.043956</td>\n    </tr>\n    <tr>\n      <th>AU</th>\n      <td>AU</td>\n      <td>AU</td>\n      <td>251</td>\n      <td>NaN</td>\n      <td>NaN</td>\n      <td>NaN</td>\n      <td>NaN</td>\n      <td>NaN</td>\n      <td>NaN</td>\n      <td>0.075697</td>\n      <td>0.023904</td>\n    </tr>\n    <tr>\n      <th>In</th>\n      <td>In</td>\n      <td>In</td>\n      <td>269</td>\n      <td>NaN</td>\n      <td>NaN</td>\n      <td>NaN</td>\n      <td>NaN</td>\n      <td>NaN</td>\n      <td>0.063197</td>\n      <td>0.211896</td>\n      <td>0.003717</td>\n    </tr>\n    <tr>\n      <th>SN</th>\n      <td>SN</td>\n      <td>SN</td>\n      <td>53</td>\n      <td>NaN</td>\n      <td>NaN</td>\n      <td>NaN</td>\n      <td>NaN</td>\n      <td>NaN</td>\n      <td>0.018868</td>\n      <td>0.056604</td>\n      <td>NaN</td>\n    </tr>\n  </tbody>\n</table>\n</div>"
     },
     "execution_count": 9,
     "metadata": {},
     "output_type": "execute_result"
    }
   ],
   "source": [
    "import pandas as pd\n",
    "\n",
    "\n",
    "# Combine all proportions into a single DataFrame\n",
    "proportions_df = pd.DataFrame({\n",
    "    'comuna': total_by_comuna.index,\n",
    "    'nombre_comuna': total_by_comuna.index.map(comuna_mapping),\n",
    "    'total_establecimientos': total_by_comuna,\n",
    "    'total_establecimientos_turismo': total_tourism_establishments_by_comuna,\n",
    "    'prop_rel_establecimientos_turismo': total_tourism_establishments_by_comuna / total_by_comuna,\n",
    "    'proporcion_relativa_alojamientos': counts_by_comuna[\"alojamientos\"] / total_tourism_establishments_by_comuna,\n",
    "    'proporcion_relativa_servicios_turisticos': counts_by_comuna[\"servicios_turisticos\"] / total_tourism_establishments_by_comuna,\n",
    "    'proporcion_relativa_entretenimiento': counts_by_comuna[\"entretenimiento\"] / total_tourism_establishments_by_comuna,\n",
    "    'proporcion_transporte': counts_by_comuna[\"transporte\"] / total_by_comuna,\n",
    "    'proporcion_alimentacion': counts_by_comuna[\"alimentacion\"] / total_by_comuna,\n",
    "    'proporcion_bares': counts_by_comuna[\"bares\"] / total_by_comuna,\n",
    "})\n",
    "\n",
    "proportions_df"
   ],
   "metadata": {
    "collapsed": false,
    "ExecuteTime": {
     "end_time": "2024-11-11T17:27:06.744048200Z",
     "start_time": "2024-11-11T17:27:06.712495900Z"
    }
   },
   "id": "e15a7316bd0f35"
  },
  {
   "cell_type": "code",
   "execution_count": 10,
   "outputs": [],
   "source": [
    "proportions_df.to_csv(\"../datasets/GeoMedellin Procesado/summary_by_comuna.csv\", index=False)"
   ],
   "metadata": {
    "collapsed": false,
    "ExecuteTime": {
     "end_time": "2024-11-11T17:28:01.860764400Z",
     "start_time": "2024-11-11T17:28:01.830477Z"
    }
   },
   "id": "c958265b930d884b"
  }
 ],
 "metadata": {
  "kernelspec": {
   "display_name": "Python 3",
   "language": "python",
   "name": "python3"
  },
  "language_info": {
   "codemirror_mode": {
    "name": "ipython",
    "version": 2
   },
   "file_extension": ".py",
   "mimetype": "text/x-python",
   "name": "python",
   "nbconvert_exporter": "python",
   "pygments_lexer": "ipython2",
   "version": "2.7.6"
  }
 },
 "nbformat": 4,
 "nbformat_minor": 5
}
