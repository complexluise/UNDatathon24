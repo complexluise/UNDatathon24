{
 "cells": [
  {
   "cell_type": "markdown",
   "source": [
    "## Establishments proportion by comuna"
   ],
   "metadata": {
    "collapsed": false
   },
   "id": "819129e8b3730b70"
  },
  {
   "cell_type": "markdown",
   "source": [
    "### Open data"
   ],
   "metadata": {
    "collapsed": false
   },
   "id": "e21228d5ff194706"
  },
  {
   "cell_type": "code",
   "execution_count": 15,
   "outputs": [],
   "source": [
    "import geopandas as gpd\n",
    "from src.geo_data_handler import GeoDataHandler\n",
    "from src.utils import ciiu_interes\n",
    "\n",
    "establecimientos_comercio = GeoDataHandler(\n",
    "    gpd.read_file(\n",
    "        \"../datasets/GeoMedellin Seleccionado/establecimientos_de_indus.geojson\"\n",
    "    )\n",
    ")\n",
    "\n",
    "comercio_alimentacion = GeoDataHandler(\n",
    "    gpd.read_file(\n",
    "        \"../datasets/GeoMedellin Procesado/processed_establishments_alimentacion.geojson\"\n",
    "    )\n",
    ")\n",
    "\n",
    "comercio_alojamientos = GeoDataHandler(\n",
    "    gpd.read_file(\n",
    "        \"../datasets/GeoMedellin Procesado/processed_establishments_alojamientos.geojson\"\n",
    "    )\n",
    ")\n",
    "\n",
    "comercio_entretenimiento = GeoDataHandler(\n",
    "    gpd.read_file(\n",
    "        \"../datasets/GeoMedellin Procesado/processed_establishments_entretenimiento.geojson\"\n",
    "    )\n",
    ")\n",
    "\n",
    "comercio_servicios_turisticos = GeoDataHandler(\n",
    "    gpd.read_file(\n",
    "        \"../datasets/GeoMedellin Procesado/processed_establishments_servicios_turisticos.geojson\"\n",
    "    )\n",
    ")\n",
    "\n",
    "comercio_transporte = GeoDataHandler(\n",
    "    gpd.read_file(\n",
    "        \"../datasets/GeoMedellin Procesado/processed_establishments_transporte.geojson\"\n",
    "    )\n",
    ")"
   ],
   "metadata": {
    "collapsed": false,
    "ExecuteTime": {
     "end_time": "2024-11-11T15:29:59.062817400Z",
     "start_time": "2024-11-11T15:29:44.416219100Z"
    }
   },
   "id": "c91c0f9f44c1e141"
  },
  {
   "cell_type": "code",
   "execution_count": 30,
   "outputs": [],
   "source": [
    "comuna_mapping = establecimientos_comercio.geodata[['comuna', 'nombre_comuna']].drop_duplicates().set_index('comuna')['nombre_comuna'].to_dict()"
   ],
   "metadata": {
    "collapsed": false,
    "ExecuteTime": {
     "end_time": "2024-11-11T15:40:46.157020200Z",
     "start_time": "2024-11-11T15:40:46.051727400Z"
    }
   },
   "id": "ec477e8b4f96f61e"
  },
  {
   "cell_type": "code",
   "execution_count": 31,
   "outputs": [
    {
     "data": {
      "text/plain": "{'14': 'EL POBLADO',\n '16': 'BelÃ©n',\n '10': 'La Candelaria',\n '08': 'Villa Hermosa',\n '12': 'La AmÃ©rica',\n '03': 'Manrique',\n '09': 'Buenos Aires',\n '07': 'Robledo',\n '70': 'Corregimiento de Altavista',\n '11': 'Laureles Estadio',\n '06': 'Doce de Octubre',\n '15': 'Guayabal',\n '60': 'Corregimiento de San CristÃ³bal',\n '01': 'Popular',\n '02': 'Santa Cruz',\n '05': 'Castilla',\n '13': 'San Javier',\n '80': 'Corregimiento de San Antonio de Prado',\n '04': 'Aranjuez',\n '90': 'Corregimiento de Santa Elena',\n 'AU': 'AU',\n 'AE': 'AE',\n 'In': 'In',\n None: None,\n 'SN': 'SN',\n '50': 'Corregimiento de San SebastiÃ¡n de Palmitas',\n '00': '00'}"
     },
     "execution_count": 31,
     "metadata": {},
     "output_type": "execute_result"
    }
   ],
   "source": [
    "comuna_mapping"
   ],
   "metadata": {
    "collapsed": false,
    "ExecuteTime": {
     "end_time": "2024-11-11T15:40:49.191529300Z",
     "start_time": "2024-11-11T15:40:49.175496Z"
    }
   },
   "id": "8279a04957f49918"
  },
  {
   "cell_type": "markdown",
   "source": [
    "# Establishment proporcion by comuna"
   ],
   "metadata": {
    "collapsed": false
   },
   "id": "1267a06d9cf9110e"
  },
  {
   "cell_type": "code",
   "execution_count": 32,
   "outputs": [],
   "source": [
    "import pandas as pd\n",
    "\n",
    "\n",
    "total_by_comuna = establecimientos_comercio.geodata.groupby(\"comuna\").size()\n",
    "alojamientos_prop = comercio_alojamientos.geodata.groupby(\"comuna\").size() / total_by_comuna\n",
    "alimentacion_prop = comercio_alimentacion.geodata.groupby(\"comuna\").size() / total_by_comuna\n",
    "entretenimiento_prop = comercio_entretenimiento.geodata.groupby(\"comuna\").size() / total_by_comuna\n",
    "servicios_turisticos_prop = comercio_servicios_turisticos.geodata.groupby(\"comuna\").size() / total_by_comuna\n",
    "transporte_prop = comercio_transporte.geodata.groupby(\"comuna\").size() / total_by_comuna\n",
    "\n",
    "# Combine all proportions into a single DataFrame\n",
    "proportions_df = pd.DataFrame({\n",
    "    'comuna': total_by_comuna.index,\n",
    "    'nombre_comuna': total_by_comuna.index.map(comuna_mapping),\n",
    "    'total_establecimientos': total_by_comuna,\n",
    "    'prop_alojamientos': alojamientos_prop,\n",
    "    'prop_alimentacion': alimentacion_prop,\n",
    "    'prop_entretenimiento': entretenimiento_prop,\n",
    "    'prop_servicios': servicios_turisticos_prop,\n",
    "    'prop_transporte': transporte_prop\n",
    "})\n"
   ],
   "metadata": {
    "collapsed": false,
    "ExecuteTime": {
     "end_time": "2024-11-11T15:41:16.567693700Z",
     "start_time": "2024-11-11T15:41:16.527017500Z"
    }
   },
   "id": "e15a7316bd0f35"
  },
  {
   "cell_type": "code",
   "execution_count": 33,
   "outputs": [
    {
     "data": {
      "text/plain": "       comuna                                nombre_comuna  \\\ncomuna                                                       \n00         00                                           00   \n01         01                                      Popular   \n02         02                                   Santa Cruz   \n03         03                                     Manrique   \n04         04                                     Aranjuez   \n05         05                                     Castilla   \n06         06                              Doce de Octubre   \n07         07                                      Robledo   \n08         08                                Villa Hermosa   \n09         09                                 Buenos Aires   \n10         10                                La Candelaria   \n11         11                             Laureles Estadio   \n12         12                                  La AmÃ©rica   \n13         13                                   San Javier   \n14         14                                   EL POBLADO   \n15         15                                     Guayabal   \n16         16                                       BelÃ©n   \n50         50  Corregimiento de San SebastiÃ¡n de Palmitas   \n60         60              Corregimiento de San CristÃ³bal   \n70         70                   Corregimiento de Altavista   \n80         80        Corregimiento de San Antonio de Prado   \n90         90                 Corregimiento de Santa Elena   \nAE         AE                                           AE   \nAU         AU                                           AU   \nIn         In                                           In   \nSN         SN                                           SN   \n\n        total_establecimientos  prop_alojamientos  prop_alimentacion  \\\ncomuna                                                                 \n00                           4                NaN                NaN   \n01                        2811           0.020633           0.021700   \n02                        3090           0.011003           0.028803   \n03                        4911           0.010181           0.022806   \n04                        8759           0.015413           0.027058   \n05                        7074           0.013571           0.020074   \n06                        5326           0.008825           0.021592   \n07                        6718           0.006550           0.022775   \n08                        4687           0.007681           0.020269   \n09                        7843           0.010200           0.023715   \n10                       50492           0.016775           0.010160   \n11                       23126           0.022226           0.015005   \n12                        9822           0.007025           0.018021   \n13                        4849           0.004537           0.016911   \n14                       34053           0.022553           0.007312   \n15                       10883           0.005605           0.015161   \n16                       18860           0.008006           0.019088   \n50                          12                NaN                NaN   \n60                        1918           0.006257           0.020855   \n70                         920           0.006522           0.009783   \n80                        2237           0.007152           0.028610   \n90                         479           0.025052           0.010438   \nAE                          91           0.010989                NaN   \nAU                         251           0.007968           0.007968   \nIn                         269           0.003717           0.066914   \nSN                          53                NaN           0.018868   \n\n        prop_entretenimiento  prop_servicios  prop_transporte  \ncomuna                                                         \n00                       NaN             NaN              NaN  \n01                  0.008894        0.004625         0.002490  \n02                  0.007443        0.003236         0.002589  \n03                  0.006516        0.006720         0.002240  \n04                  0.005023        0.005138         0.005480  \n05                  0.005230        0.006220         0.010744  \n06                  0.006196        0.007510         0.003380  \n07                  0.004466        0.010271         0.008038  \n08                  0.006401        0.010881         0.005761  \n09                  0.006885        0.009945         0.005993  \n10                  0.002495        0.006219         0.003644  \n11                  0.004497        0.010767         0.007697  \n12                  0.005396        0.009570         0.008043  \n13                  0.004537        0.010518         0.005362  \n14                  0.006020        0.011335         0.004464  \n15                  0.004411        0.006983         0.013691  \n16                  0.006522        0.009120         0.006787  \n50                       NaN             NaN              NaN  \n60                  0.007821        0.011992         0.003650  \n70                  0.006522        0.010870         0.005435  \n80                  0.004023        0.003576         0.009388  \n90                  0.002088        0.002088         0.004175  \nAE                  0.010989             NaN              NaN  \nAU                       NaN        0.007968              NaN  \nIn                       NaN        0.007435         0.063197  \nSN                       NaN             NaN         0.018868  ",
      "text/html": "<div>\n<style scoped>\n    .dataframe tbody tr th:only-of-type {\n        vertical-align: middle;\n    }\n\n    .dataframe tbody tr th {\n        vertical-align: top;\n    }\n\n    .dataframe thead th {\n        text-align: right;\n    }\n</style>\n<table border=\"1\" class=\"dataframe\">\n  <thead>\n    <tr style=\"text-align: right;\">\n      <th></th>\n      <th>comuna</th>\n      <th>nombre_comuna</th>\n      <th>total_establecimientos</th>\n      <th>prop_alojamientos</th>\n      <th>prop_alimentacion</th>\n      <th>prop_entretenimiento</th>\n      <th>prop_servicios</th>\n      <th>prop_transporte</th>\n    </tr>\n    <tr>\n      <th>comuna</th>\n      <th></th>\n      <th></th>\n      <th></th>\n      <th></th>\n      <th></th>\n      <th></th>\n      <th></th>\n      <th></th>\n    </tr>\n  </thead>\n  <tbody>\n    <tr>\n      <th>00</th>\n      <td>00</td>\n      <td>00</td>\n      <td>4</td>\n      <td>NaN</td>\n      <td>NaN</td>\n      <td>NaN</td>\n      <td>NaN</td>\n      <td>NaN</td>\n    </tr>\n    <tr>\n      <th>01</th>\n      <td>01</td>\n      <td>Popular</td>\n      <td>2811</td>\n      <td>0.020633</td>\n      <td>0.021700</td>\n      <td>0.008894</td>\n      <td>0.004625</td>\n      <td>0.002490</td>\n    </tr>\n    <tr>\n      <th>02</th>\n      <td>02</td>\n      <td>Santa Cruz</td>\n      <td>3090</td>\n      <td>0.011003</td>\n      <td>0.028803</td>\n      <td>0.007443</td>\n      <td>0.003236</td>\n      <td>0.002589</td>\n    </tr>\n    <tr>\n      <th>03</th>\n      <td>03</td>\n      <td>Manrique</td>\n      <td>4911</td>\n      <td>0.010181</td>\n      <td>0.022806</td>\n      <td>0.006516</td>\n      <td>0.006720</td>\n      <td>0.002240</td>\n    </tr>\n    <tr>\n      <th>04</th>\n      <td>04</td>\n      <td>Aranjuez</td>\n      <td>8759</td>\n      <td>0.015413</td>\n      <td>0.027058</td>\n      <td>0.005023</td>\n      <td>0.005138</td>\n      <td>0.005480</td>\n    </tr>\n    <tr>\n      <th>05</th>\n      <td>05</td>\n      <td>Castilla</td>\n      <td>7074</td>\n      <td>0.013571</td>\n      <td>0.020074</td>\n      <td>0.005230</td>\n      <td>0.006220</td>\n      <td>0.010744</td>\n    </tr>\n    <tr>\n      <th>06</th>\n      <td>06</td>\n      <td>Doce de Octubre</td>\n      <td>5326</td>\n      <td>0.008825</td>\n      <td>0.021592</td>\n      <td>0.006196</td>\n      <td>0.007510</td>\n      <td>0.003380</td>\n    </tr>\n    <tr>\n      <th>07</th>\n      <td>07</td>\n      <td>Robledo</td>\n      <td>6718</td>\n      <td>0.006550</td>\n      <td>0.022775</td>\n      <td>0.004466</td>\n      <td>0.010271</td>\n      <td>0.008038</td>\n    </tr>\n    <tr>\n      <th>08</th>\n      <td>08</td>\n      <td>Villa Hermosa</td>\n      <td>4687</td>\n      <td>0.007681</td>\n      <td>0.020269</td>\n      <td>0.006401</td>\n      <td>0.010881</td>\n      <td>0.005761</td>\n    </tr>\n    <tr>\n      <th>09</th>\n      <td>09</td>\n      <td>Buenos Aires</td>\n      <td>7843</td>\n      <td>0.010200</td>\n      <td>0.023715</td>\n      <td>0.006885</td>\n      <td>0.009945</td>\n      <td>0.005993</td>\n    </tr>\n    <tr>\n      <th>10</th>\n      <td>10</td>\n      <td>La Candelaria</td>\n      <td>50492</td>\n      <td>0.016775</td>\n      <td>0.010160</td>\n      <td>0.002495</td>\n      <td>0.006219</td>\n      <td>0.003644</td>\n    </tr>\n    <tr>\n      <th>11</th>\n      <td>11</td>\n      <td>Laureles Estadio</td>\n      <td>23126</td>\n      <td>0.022226</td>\n      <td>0.015005</td>\n      <td>0.004497</td>\n      <td>0.010767</td>\n      <td>0.007697</td>\n    </tr>\n    <tr>\n      <th>12</th>\n      <td>12</td>\n      <td>La AmÃ©rica</td>\n      <td>9822</td>\n      <td>0.007025</td>\n      <td>0.018021</td>\n      <td>0.005396</td>\n      <td>0.009570</td>\n      <td>0.008043</td>\n    </tr>\n    <tr>\n      <th>13</th>\n      <td>13</td>\n      <td>San Javier</td>\n      <td>4849</td>\n      <td>0.004537</td>\n      <td>0.016911</td>\n      <td>0.004537</td>\n      <td>0.010518</td>\n      <td>0.005362</td>\n    </tr>\n    <tr>\n      <th>14</th>\n      <td>14</td>\n      <td>EL POBLADO</td>\n      <td>34053</td>\n      <td>0.022553</td>\n      <td>0.007312</td>\n      <td>0.006020</td>\n      <td>0.011335</td>\n      <td>0.004464</td>\n    </tr>\n    <tr>\n      <th>15</th>\n      <td>15</td>\n      <td>Guayabal</td>\n      <td>10883</td>\n      <td>0.005605</td>\n      <td>0.015161</td>\n      <td>0.004411</td>\n      <td>0.006983</td>\n      <td>0.013691</td>\n    </tr>\n    <tr>\n      <th>16</th>\n      <td>16</td>\n      <td>BelÃ©n</td>\n      <td>18860</td>\n      <td>0.008006</td>\n      <td>0.019088</td>\n      <td>0.006522</td>\n      <td>0.009120</td>\n      <td>0.006787</td>\n    </tr>\n    <tr>\n      <th>50</th>\n      <td>50</td>\n      <td>Corregimiento de San SebastiÃ¡n de Palmitas</td>\n      <td>12</td>\n      <td>NaN</td>\n      <td>NaN</td>\n      <td>NaN</td>\n      <td>NaN</td>\n      <td>NaN</td>\n    </tr>\n    <tr>\n      <th>60</th>\n      <td>60</td>\n      <td>Corregimiento de San CristÃ³bal</td>\n      <td>1918</td>\n      <td>0.006257</td>\n      <td>0.020855</td>\n      <td>0.007821</td>\n      <td>0.011992</td>\n      <td>0.003650</td>\n    </tr>\n    <tr>\n      <th>70</th>\n      <td>70</td>\n      <td>Corregimiento de Altavista</td>\n      <td>920</td>\n      <td>0.006522</td>\n      <td>0.009783</td>\n      <td>0.006522</td>\n      <td>0.010870</td>\n      <td>0.005435</td>\n    </tr>\n    <tr>\n      <th>80</th>\n      <td>80</td>\n      <td>Corregimiento de San Antonio de Prado</td>\n      <td>2237</td>\n      <td>0.007152</td>\n      <td>0.028610</td>\n      <td>0.004023</td>\n      <td>0.003576</td>\n      <td>0.009388</td>\n    </tr>\n    <tr>\n      <th>90</th>\n      <td>90</td>\n      <td>Corregimiento de Santa Elena</td>\n      <td>479</td>\n      <td>0.025052</td>\n      <td>0.010438</td>\n      <td>0.002088</td>\n      <td>0.002088</td>\n      <td>0.004175</td>\n    </tr>\n    <tr>\n      <th>AE</th>\n      <td>AE</td>\n      <td>AE</td>\n      <td>91</td>\n      <td>0.010989</td>\n      <td>NaN</td>\n      <td>0.010989</td>\n      <td>NaN</td>\n      <td>NaN</td>\n    </tr>\n    <tr>\n      <th>AU</th>\n      <td>AU</td>\n      <td>AU</td>\n      <td>251</td>\n      <td>0.007968</td>\n      <td>0.007968</td>\n      <td>NaN</td>\n      <td>0.007968</td>\n      <td>NaN</td>\n    </tr>\n    <tr>\n      <th>In</th>\n      <td>In</td>\n      <td>In</td>\n      <td>269</td>\n      <td>0.003717</td>\n      <td>0.066914</td>\n      <td>NaN</td>\n      <td>0.007435</td>\n      <td>0.063197</td>\n    </tr>\n    <tr>\n      <th>SN</th>\n      <td>SN</td>\n      <td>SN</td>\n      <td>53</td>\n      <td>NaN</td>\n      <td>0.018868</td>\n      <td>NaN</td>\n      <td>NaN</td>\n      <td>0.018868</td>\n    </tr>\n  </tbody>\n</table>\n</div>"
     },
     "execution_count": 33,
     "metadata": {},
     "output_type": "execute_result"
    }
   ],
   "source": [
    "proportions_df"
   ],
   "metadata": {
    "collapsed": false,
    "ExecuteTime": {
     "end_time": "2024-11-11T15:41:18.096497400Z",
     "start_time": "2024-11-11T15:41:18.074214500Z"
    }
   },
   "id": "511a82f9c73443b5"
  },
  {
   "cell_type": "code",
   "execution_count": 21,
   "outputs": [
    {
     "data": {
      "text/plain": "Index(['OBJECTID', 'id_contrato', 'nombre_establecimiento', 'corregimiento',\n       'codigociiu', 'grupo_actividad', 'comuna', 'nombre_comuna',\n       'codigo_barrio', 'nombre_barrio', 'x_magnamed', 'y_magnamed',\n       'longitud', 'latitud', 'geometry'],\n      dtype='object')"
     },
     "execution_count": 21,
     "metadata": {},
     "output_type": "execute_result"
    }
   ],
   "source": [
    "establecimientos_comercio.geodata.columns"
   ],
   "metadata": {
    "collapsed": false,
    "ExecuteTime": {
     "end_time": "2024-11-11T15:33:00.793268Z",
     "start_time": "2024-11-11T15:33:00.786593800Z"
    }
   },
   "id": "404a53e0ba701767"
  },
  {
   "cell_type": "code",
   "execution_count": null,
   "outputs": [],
   "source": [],
   "metadata": {
    "collapsed": false
   },
   "id": "c958265b930d884b"
  }
 ],
 "metadata": {
  "kernelspec": {
   "display_name": "Python 3",
   "language": "python",
   "name": "python3"
  },
  "language_info": {
   "codemirror_mode": {
    "name": "ipython",
    "version": 2
   },
   "file_extension": ".py",
   "mimetype": "text/x-python",
   "name": "python",
   "nbconvert_exporter": "python",
   "pygments_lexer": "ipython2",
   "version": "2.7.6"
  }
 },
 "nbformat": 4,
 "nbformat_minor": 5
}
