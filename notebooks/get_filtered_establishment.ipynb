{
 "cells": [
  {
   "cell_type": "markdown",
   "source": [
    "# Filter establishments by CIUU code"
   ],
   "metadata": {
    "collapsed": false
   },
   "id": "85b6df8f39732394"
  },
  {
   "cell_type": "markdown",
   "source": [
    "## CIIU codes relevants for tourism"
   ],
   "metadata": {
    "collapsed": false
   },
   "id": "a0665d8c37ec1ac8"
  },
  {
   "cell_type": "code",
   "execution_count": 1,
   "outputs": [],
   "source": [
    "ciiu_alojamientos = [\n",
    "    \"5511\",  # Alojamiento en hoteles.\n",
    "    \"5512\",  # Alojamiento en apartahoteles.\n",
    "    \"5513\",  # Alojamiento en centros vacacionales.\n",
    "    \"5514\",  # Alojamiento rural.\n",
    "    \"5519\",  # Otros tipos de alojamiento para visitantes.\n",
    "    \"5520\",  # Actividades de zonas de camping y parques para vehículos recreacionales.\n",
    "    \"5530\",  # Servicio de estancia por horas.\n",
    "    \"5590\"  # Otros tipos de alojamiento n.c.p.\n",
    "]\n",
    "\n",
    "ciiu_servicios_turisticos = [\n",
    "    \"7911\",  # Actividades de las agencias de viaje.\n",
    "    \"7912\",  # Actividades de operadores turísticos.\n",
    "    \"7990\"  # Otros servicios de reserva y actividades relacionadas.\n",
    "]\n",
    "\n",
    "ciiu_varios = [\n",
    "    \"3012\",  # Construcción de embarcaciones de recreo y deporte\n",
    "    # \"4911\",  # Transporte férreo de pasajeros\n",
    "    # \"4921\",  # Transporte de pasajeros\n",
    "    # \"5011\",  # Transporte de pasajeros marítimo y de cabotaje\n",
    "    # \"5021\",  # Transporte fluvial de pasajeros\n",
    "    # \"5111\",  # Transporte aéreo nacional de pasajeros\n",
    "    # \"5112\",  # Transporte aéreo internacional de pasajeros\n",
    "    # \"5619\",  # Otros tipos de expendio de comidas preparadas n.c.p.\n",
    "    \"8230\",  # Organización de convenciones y eventos comerciales\n",
    "    \"9103\",  # Actividades de jardines botánicos, zoológicos y reservas naturales\n",
    "    \"9200\",  # Actividades de juegos de azar y apuestas\n",
    "    \"9321\",  # Actividades de parques de atracciones y parques temáticos\n",
    "    \"9329\"  # Otras actividades recreativas y de esparcimiento n.c.p.\n",
    "]"
   ],
   "metadata": {
    "collapsed": false,
    "ExecuteTime": {
     "end_time": "2024-11-11T03:24:31.372338800Z",
     "start_time": "2024-11-11T03:24:31.342440100Z"
    }
   },
   "id": "babdd79a6be7d136"
  },
  {
   "cell_type": "code",
   "execution_count": 2,
   "outputs": [],
   "source": [
    "import geopandas as gpd\n",
    "from src.geo_data_handler import GeoDataHandler\n",
    "establecimientos = gpd.read_file(\"../datasets/GeoMedellin Seleccionado/establecimientos_de_indus.geojson\")\n",
    "handler = GeoDataHandler(establecimientos)"
   ],
   "metadata": {
    "collapsed": false,
    "ExecuteTime": {
     "end_time": "2024-11-11T03:25:09.715291400Z",
     "start_time": "2024-11-11T03:24:31.359832300Z"
    }
   },
   "id": "aa03d4dbf68a75da"
  },
  {
   "cell_type": "code",
   "execution_count": 3,
   "outputs": [
    {
     "data": {
      "text/plain": "<src.geo_data_handler.GeoDataHandler at 0x1828f251b10>"
     },
     "execution_count": 3,
     "metadata": {},
     "output_type": "execute_result"
    }
   ],
   "source": [
    "# Process establishments servicios_turisticos\n",
    "(\n",
    "    handler\n",
    "     .filter_by_attribute('codigociiu', ciiu_alojamientos)\n",
    "     .reproject()  # Ensure WGS84 for web mapping\n",
    "     .add_centroid()  # Add coordinates for point data\n",
    "     .export_geojson(\"../datasets/GeoMedellin Procesado/processed_establishments_alojamientos.geojson\")\n",
    ")"
   ],
   "metadata": {
    "collapsed": false,
    "ExecuteTime": {
     "end_time": "2024-11-11T03:25:10.381327600Z",
     "start_time": "2024-11-11T03:25:09.718171600Z"
    }
   },
   "id": "53c785a9584c3e8c"
  },
  {
   "cell_type": "code",
   "execution_count": 4,
   "outputs": [
    {
     "data": {
      "text/plain": "<src.geo_data_handler.GeoDataHandler at 0x1829a42a850>"
     },
     "execution_count": 4,
     "metadata": {},
     "output_type": "execute_result"
    }
   ],
   "source": [
    "# Process establishments servicios_turisticos\n",
    "(\n",
    "    handler\n",
    "     .filter_by_attribute('codigociiu', ciiu_servicios_turisticos)\n",
    "     .reproject()  # Ensure WGS84 for web mapping\n",
    "     .add_centroid()  # Add coordinates for point data\n",
    "     .export_geojson(\"../datasets/GeoMedellin Procesado/processed_establishments_servicios_turisticos.geojson\")\n",
    ")"
   ],
   "metadata": {
    "collapsed": false,
    "ExecuteTime": {
     "end_time": "2024-11-11T03:25:10.806046600Z",
     "start_time": "2024-11-11T03:25:10.381327600Z"
    }
   },
   "id": "73c9f9d7432404bc"
  },
  {
   "cell_type": "code",
   "execution_count": 6,
   "outputs": [
    {
     "data": {
      "text/plain": "<src.geo_data_handler.GeoDataHandler at 0x18299dcfb50>"
     },
     "execution_count": 6,
     "metadata": {},
     "output_type": "execute_result"
    }
   ],
   "source": [
    "# Process establishments servicios_turisticos\n",
    "(\n",
    "    handler\n",
    "     .filter_by_attribute('codigociiu', ciiu_varios)\n",
    "     .reproject()  # Ensure WGS84 for web mapping\n",
    "     .add_centroid()  # Add coordinates for point data\n",
    "     .export_geojson(\"../datasets/GeoMedellin Procesado/processed_establishments_varios.geojson\")\n",
    ")"
   ],
   "metadata": {
    "collapsed": false,
    "ExecuteTime": {
     "end_time": "2024-11-11T03:26:38.502423600Z",
     "start_time": "2024-11-11T03:26:38.326961400Z"
    }
   },
   "id": "b791024aebb25f66"
  },
  {
   "cell_type": "code",
   "execution_count": 5,
   "outputs": [],
   "source": [],
   "metadata": {
    "collapsed": false,
    "ExecuteTime": {
     "end_time": "2024-11-11T03:25:11.266667700Z",
     "start_time": "2024-11-11T03:25:11.252237400Z"
    }
   },
   "id": "2657e0dbc9d8c3c9"
  }
 ],
 "metadata": {
  "kernelspec": {
   "display_name": "Python 3",
   "language": "python",
   "name": "python3"
  },
  "language_info": {
   "codemirror_mode": {
    "name": "ipython",
    "version": 2
   },
   "file_extension": ".py",
   "mimetype": "text/x-python",
   "name": "python",
   "nbconvert_exporter": "python",
   "pygments_lexer": "ipython2",
   "version": "2.7.6"
  }
 },
 "nbformat": 4,
 "nbformat_minor": 5
}
