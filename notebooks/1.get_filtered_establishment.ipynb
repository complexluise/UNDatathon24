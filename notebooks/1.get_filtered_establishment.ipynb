{
 "cells": [
  {
   "cell_type": "markdown",
   "source": [
    "# Filter establishments by CIUU code"
   ],
   "metadata": {
    "collapsed": false
   },
   "id": "85b6df8f39732394"
  },
  {
   "cell_type": "markdown",
   "source": [
    "## CIIU codes relevants for tourism"
   ],
   "metadata": {
    "collapsed": false
   },
   "id": "a0665d8c37ec1ac8"
  },
  {
   "cell_type": "code",
   "execution_count": 1,
   "outputs": [
    {
     "data": {
      "text/plain": "{'alojamientos': ['5511',\n  '5512',\n  '5513',\n  '5514',\n  '5519',\n  '5520',\n  '5530',\n  '5590'],\n 'servicios_turisticos': ['7911', '7912', '7990'],\n 'entretenimiento': ['3012', '8230', '9103', '9200', '9321', '9329'],\n 'transporte': ['4911', '4921', '5011', '5021', '5111', '5112'],\n 'alimentacion': ['5619']}"
     },
     "execution_count": 1,
     "metadata": {},
     "output_type": "execute_result"
    }
   ],
   "source": [
    "from src.utils import ciiu_interes\n",
    "ciiu_interes"
   ],
   "metadata": {
    "collapsed": false,
    "ExecuteTime": {
     "end_time": "2024-11-11T15:21:19.338909500Z",
     "start_time": "2024-11-11T15:21:19.307667600Z"
    }
   },
   "id": "babdd79a6be7d136"
  },
  {
   "cell_type": "code",
   "execution_count": 2,
   "outputs": [],
   "source": [
    "import geopandas as gpd\n",
    "from src.geo_data_handler import GeoDataHandler\n",
    "establecimientos = gpd.read_file(\"../datasets/GeoMedellin Seleccionado/establecimientos_de_indus.geojson\")\n",
    "handler = GeoDataHandler(establecimientos)"
   ],
   "metadata": {
    "collapsed": false,
    "ExecuteTime": {
     "end_time": "2024-11-11T15:21:31.782705300Z",
     "start_time": "2024-11-11T15:21:19.338909500Z"
    }
   },
   "id": "aa03d4dbf68a75da"
  },
  {
   "cell_type": "code",
   "execution_count": 3,
   "outputs": [
    {
     "data": {
      "text/plain": "dict_keys(['alojamientos', 'servicios_turisticos', 'entretenimiento', 'transporte', 'alimentacion'])"
     },
     "execution_count": 3,
     "metadata": {},
     "output_type": "execute_result"
    }
   ],
   "source": [
    "ciiu_interes.keys()"
   ],
   "metadata": {
    "collapsed": false,
    "ExecuteTime": {
     "end_time": "2024-11-11T15:21:31.798047Z",
     "start_time": "2024-11-11T15:21:31.787034400Z"
    }
   },
   "id": "f05921449e18df61"
  },
  {
   "cell_type": "code",
   "execution_count": 4,
   "outputs": [],
   "source": [
    "# Process establishments servicios_turisticos\n",
    "\n",
    "for key, values in ciiu_interes.items():\n",
    "    (\n",
    "        handler\n",
    "         .filter_by_attribute('codigociiu', values)\n",
    "         .reproject()  # Ensure WGS84 for web mapping\n",
    "         .add_centroid()  # Add coordinates for point data\n",
    "         .export_geojson(f\"../datasets/GeoMedellin Procesado/processed_establishments_{key}.geojson\")\n",
    "    )"
   ],
   "metadata": {
    "collapsed": false,
    "ExecuteTime": {
     "end_time": "2024-11-11T15:21:32.651420Z",
     "start_time": "2024-11-11T15:21:31.790037100Z"
    }
   },
   "id": "53c785a9584c3e8c"
  }
 ],
 "metadata": {
  "kernelspec": {
   "display_name": "Python 3",
   "language": "python",
   "name": "python3"
  },
  "language_info": {
   "codemirror_mode": {
    "name": "ipython",
    "version": 2
   },
   "file_extension": ".py",
   "mimetype": "text/x-python",
   "name": "python",
   "nbconvert_exporter": "python",
   "pygments_lexer": "ipython2",
   "version": "2.7.6"
  }
 },
 "nbformat": 4,
 "nbformat_minor": 5
}
